{
 "cells": [
  {
   "cell_type": "code",
   "execution_count": 29,
   "metadata": {
    "ExecuteTime": {
     "end_time": "2019-07-10T06:13:58.840573Z",
     "start_time": "2019-07-10T06:13:58.836263Z"
    }
   },
   "outputs": [],
   "source": [
    "import numpy as np\n",
    "import re\n",
    "import os"
   ]
  },
  {
   "cell_type": "code",
   "execution_count": 40,
   "metadata": {
    "ExecuteTime": {
     "end_time": "2019-07-10T06:24:46.551083Z",
     "start_time": "2019-07-10T06:24:45.002298Z"
    }
   },
   "outputs": [],
   "source": [
    "for directory in glob.glob('livneh_loader/*'):\n",
    "    for item in glob.glob(directory + '/*'):\n",
    "        if('npy' in item):\n",
    "            if (int(re.search(r'\\d+', item).group()) <= int(0.8*4018)):\n",
    "                new_dir = directory + \"/train/\" + str((int(re.search(r'\\d+', item).group()))) + \".npy\"\n",
    "                os.rename(item, new_dir)\n",
    "            else:\n",
    "                new_dir = directory + \"/val/\" + str((int(re.search(r'\\d+', item).group()))) + \".npy\"\n",
    "                os.rename(item, new_dir)\n"
   ]
  },
  {
   "cell_type": "code",
   "execution_count": 34,
   "metadata": {
    "ExecuteTime": {
     "end_time": "2019-07-10T06:17:39.689922Z",
     "start_time": "2019-07-10T06:17:39.680373Z"
    }
   },
   "outputs": [
    {
     "data": {
      "text/plain": [
       "['livneh_loader/Baseflow',\n",
       " 'livneh_loader/train',\n",
       " 'livneh_loader/GroundHeat',\n",
       " 'livneh_loader/Tmin',\n",
       " 'livneh_loader/PETLong',\n",
       " 'livneh_loader/val',\n",
       " 'livneh_loader/SWE',\n",
       " 'livneh_loader/PETShort',\n",
       " 'livneh_loader/Prec',\n",
       " 'livneh_loader/wind',\n",
       " 'livneh_loader/Tmax',\n",
       " 'livneh_loader/Runoff',\n",
       " 'livneh_loader/LatentHeat',\n",
       " 'livneh_loader/NetRad',\n",
       " 'livneh_loader/SensibleHeat',\n",
       " 'livneh_loader/PETNatVeg']"
      ]
     },
     "execution_count": 34,
     "metadata": {},
     "output_type": "execute_result"
    }
   ],
   "source": [
    "glob.glob('livneh_loader/*')"
   ]
  },
  {
   "cell_type": "code",
   "execution_count": 35,
   "metadata": {
    "ExecuteTime": {
     "end_time": "2019-07-10T06:18:39.335424Z",
     "start_time": "2019-07-10T06:18:39.330446Z"
    }
   },
   "outputs": [],
   "source": [
    "for directory in glob.glob('livneh_loader/*'):\n",
    "    new_dir = directory + '/train/' \n",
    "    if not os.path.exists(new_dir):\n",
    "        os.makedirs(new_dir)"
   ]
  },
  {
   "cell_type": "code",
   "execution_count": 36,
   "metadata": {
    "ExecuteTime": {
     "end_time": "2019-07-10T06:18:43.728044Z",
     "start_time": "2019-07-10T06:18:43.721050Z"
    }
   },
   "outputs": [],
   "source": [
    "for directory in glob.glob('livneh_loader/*'):\n",
    "    new_dir = directory + '/val/' \n",
    "    if not os.path.exists(new_dir):\n",
    "        os.makedirs(new_dir)"
   ]
  },
  {
   "cell_type": "code",
   "execution_count": null,
   "metadata": {},
   "outputs": [],
   "source": []
  }
 ],
 "metadata": {
  "kernelspec": {
   "display_name": "Python 3",
   "language": "python",
   "name": "python3"
  },
  "language_info": {
   "codemirror_mode": {
    "name": "ipython",
    "version": 3
   },
   "file_extension": ".py",
   "mimetype": "text/x-python",
   "name": "python",
   "nbconvert_exporter": "python",
   "pygments_lexer": "ipython3",
   "version": "3.7.3"
  },
  "toc": {
   "base_numbering": 1,
   "nav_menu": {},
   "number_sections": true,
   "sideBar": true,
   "skip_h1_title": false,
   "title_cell": "Table of Contents",
   "title_sidebar": "Contents",
   "toc_cell": false,
   "toc_position": {},
   "toc_section_display": true,
   "toc_window_display": false
  },
  "varInspector": {
   "cols": {
    "lenName": 16,
    "lenType": 16,
    "lenVar": 40
   },
   "kernels_config": {
    "python": {
     "delete_cmd_postfix": "",
     "delete_cmd_prefix": "del ",
     "library": "var_list.py",
     "varRefreshCmd": "print(var_dic_list())"
    },
    "r": {
     "delete_cmd_postfix": ") ",
     "delete_cmd_prefix": "rm(",
     "library": "var_list.r",
     "varRefreshCmd": "cat(var_dic_list()) "
    }
   },
   "types_to_exclude": [
    "module",
    "function",
    "builtin_function_or_method",
    "instance",
    "_Feature"
   ],
   "window_display": false
  }
 },
 "nbformat": 4,
 "nbformat_minor": 2
}
