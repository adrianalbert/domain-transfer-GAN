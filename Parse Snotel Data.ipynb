{
 "cells": [
  {
   "cell_type": "code",
   "execution_count": 1,
   "metadata": {},
   "outputs": [],
   "source": [
    "import numpy as np\n",
    "import scipy as sp\n",
    "import matplotlib.pyplot as plt\n",
    "import netCDF4 as nc4\n",
    "from skimage.transform import resize\n",
    "import pandas as pd"
   ]
  },
  {
   "cell_type": "code",
   "execution_count": 2,
   "metadata": {},
   "outputs": [],
   "source": [
    "snotel_frame = pd.read_excel(\"datasets/SNOTEL_32stations_daily_SierraNevada_1985_2015.xlsx\")"
   ]
  },
  {
   "cell_type": "code",
   "execution_count": null,
   "metadata": {},
   "outputs": [],
   "source": []
  },
  {
   "cell_type": "code",
   "execution_count": 3,
   "metadata": {},
   "outputs": [
    {
     "data": {
      "text/plain": [
       "Index(['Station Name', 'Elevation (ft)', 'Latitude', 'Longitude', 'Start Date',\n",
       "       'End Date', 'Year', 'Day', 'Jan', 'Jan.1', 'Jan.2', 'Jan.3', 'Jan.4',\n",
       "       'Feb', 'Feb.1', 'Feb.2', 'Feb.3', 'Feb.4', 'Mar', 'Mar.1', 'Mar.2',\n",
       "       'Mar.3', 'Mar.4', 'Apr', 'Apr.1', 'Apr.2', 'Apr.3', 'Apr.4', 'May',\n",
       "       'May.1', 'May.2', 'May.3', 'May.4', 'Jun', 'Jun.1', 'Jun.2', 'Jun.3',\n",
       "       'Jun.4', 'Jul', 'Jul.1', 'Jul.2', 'Jul.3', 'Jul.4', 'Aug', 'Aug.1',\n",
       "       'Aug.2', 'Aug.3', 'Aug.4', 'Sep', 'Sep.1', 'Sep.2', 'Sep.3', 'Sep.4',\n",
       "       'Oct', 'Oct.1', 'Oct.2', 'Oct.3', 'Oct.4', 'Nov', 'Nov.1', 'Nov.2',\n",
       "       'Nov.3', 'Nov.4', 'Dec', 'Dec.1', 'Dec.2', 'Dec.3', 'Dec.4'],\n",
       "      dtype='object')"
      ]
     },
     "execution_count": 3,
     "metadata": {},
     "output_type": "execute_result"
    }
   ],
   "source": [
    "snotel_frame.columns"
   ]
  },
  {
   "cell_type": "code",
   "execution_count": 4,
   "metadata": {},
   "outputs": [],
   "source": [
    "name_list = set(snotel_frame[\"Station Name\"][2:])\n",
    "month_list = [\"Jan\", \"Feb\", \"Mar\", \"Apr\", \"May\", \"Jun\", \"Jul\", \"Aug\", \"Sep\", \"Oct\", \"Nov\", \"Dec\"]"
   ]
  },
  {
   "cell_type": "code",
   "execution_count": 5,
   "metadata": {},
   "outputs": [
    {
     "name": "stdout",
     "output_type": "stream",
     "text": [
      "Monitor Pass\n",
      "Ward Creek #3\n",
      "Rubicon #2\n",
      "Independence Creek\n",
      "Heavenly Valley\n",
      "Leavitt Meadows\n",
      "Fallen Leaf\n",
      "Blue Lakes\n",
      "Poison Flat\n",
      "Squaw Valley G.C.\n",
      "Carson Pass\n",
      "Lobdell Lake\n",
      "Summit Meadow\n",
      "Truckee #2\n",
      "Mt Rose Ski Area\n",
      "Hagans Meadow\n",
      "Big Meadow\n",
      "Sonora Pass\n",
      "Burnside Lake\n",
      "Ebbetts Pass\n",
      "Horse Meadow\n",
      "Leavitt Lake\n",
      "Virginia Lakes Ridge\n",
      "Css Lab\n",
      "Echo Peak\n",
      "Marlette Lake\n",
      "Little Valley\n",
      "Forestdale Creek\n",
      "Spratt Creek\n",
      "Independence Lake\n",
      "Tahoe City Cross\n",
      "Independence Camp\n"
     ]
    }
   ],
   "source": [
    "snotel_dict = {}\n",
    "for station_name in name_list:\n",
    "    print(station_name)\n",
    "    this_name_frame = snotel_frame.loc[snotel_frame['Station Name'] == station_name]\n",
    "    snotel_dict[station_name] = []\n",
    "    for year_num in range(2003, 2014):\n",
    "        for month in month_list:\n",
    "            snotel_dict[station_name] += list(this_name_frame.loc[this_name_frame['Year'] == str(year_num)][month])\n",
    "            #print(station_name, year_num, month)\n",
    "            #print(len(list(this_name_frame.loc[this_name_frame['Year'] == str(year_num)][month])))"
   ]
  },
  {
   "cell_type": "code",
   "execution_count": 6,
   "metadata": {},
   "outputs": [],
   "source": [
    "tempfile = open('datasets/print.LivnehtoSNOTELindex.out', 'r')\n",
    "tempfile  =tempfile.readlines()\n",
    "tempfile = [i.split(\" \") for i in tempfile]\n",
    "tempfile = sum(tempfile, [])\n",
    "tempfile = np.array(tempfile)\n",
    "grid_size = 312\n",
    "index_list = tempfile[np.where(np.array(tempfile) == \"Index\")[0] + 2]\n",
    "indexlist = index_list.astype(int)\n",
    "index_list = indexlist.reshape((-1,2))\n",
    "index_list = np.round(index_list*(grid_size/312)).astype(int)\n",
    "station_list = tempfile[np.where(np.array(tempfile) == \"Station\")[0] + 2]\n",
    "index_dict = {i[0]:i[1] for i in zip(station_list, index_list)}"
   ]
  },
  {
   "cell_type": "code",
   "execution_count": 7,
   "metadata": {},
   "outputs": [],
   "source": [
    "def remove_snotel_nan(snotel_array):\n",
    "    return snotel_array[np.where(snotel_array != 'nan')].astype(int)"
   ]
  },
  {
   "cell_type": "code",
   "execution_count": 8,
   "metadata": {},
   "outputs": [],
   "source": [
    "for key in snotel_dict.keys():\n",
    "    snotel_dict[key] = (remove_snotel_nan(np.array(snotel_dict[key])))"
   ]
  },
  {
   "cell_type": "code",
   "execution_count": null,
   "metadata": {},
   "outputs": [],
   "source": []
  },
  {
   "cell_type": "code",
   "execution_count": 9,
   "metadata": {
    "scrolled": false
   },
   "outputs": [
    {
     "name": "stdout",
     "output_type": "stream",
     "text": [
      "Monitor Pass 1\n",
      "Ward Creek #3 1\n",
      "Rubicon #2 1\n",
      "Independence Creek 1\n",
      "Heavenly Valley 1\n",
      "Leavitt Meadows 1\n",
      "Fallen Leaf 1\n",
      "Blue Lakes 1\n",
      "Poison Flat 1\n",
      "Squaw Valley G.C. 1\n",
      "Carson Pass 1\n",
      "Lobdell Lake 1\n",
      "Summit Meadow 1\n",
      "Truckee #2 1\n",
      "Mt Rose Ski Area 1\n",
      "Hagans Meadow 1\n",
      "Big Meadow 1\n",
      "Sonora Pass 1\n",
      "Burnside Lake 1\n",
      "Ebbetts Pass 1\n",
      "Horse Meadow 1\n",
      "Leavitt Lake 1\n",
      "Virginia Lakes Ridge 1\n",
      "Css Lab 1\n",
      "Echo Peak 1\n",
      "Marlette Lake 1\n",
      "Little Valley 1\n",
      "Forestdale Creek 1\n",
      "Spratt Creek 1\n",
      "Independence Lake 1\n",
      "Tahoe City Cross 1\n",
      "Independence Camp 1\n"
     ]
    },
    {
     "name": "stderr",
     "output_type": "stream",
     "text": [
      "/home/ashray/anaconda3/envs/py37torch1/lib/python3.7/site-packages/ipykernel_launcher.py:2: FutureWarning: elementwise comparison failed; returning scalar instead, but in the future will perform elementwise comparison\n",
      "  \n"
     ]
    }
   ],
   "source": [
    "for i in snotel_dict.keys():\n",
    "    print(i, np.sum(np.array(snotel_dict[i]) != 'nan'))"
   ]
  },
  {
   "cell_type": "code",
   "execution_count": null,
   "metadata": {},
   "outputs": [],
   "source": []
  },
  {
   "cell_type": "code",
   "execution_count": 10,
   "metadata": {},
   "outputs": [
    {
     "name": "stdout",
     "output_type": "stream",
     "text": [
      "['Big Meadow', 'Blue Lakes', 'Burnside Lake', 'Carson Pass', 'Css Lab', 'Ebbetts Pass', 'Echo Peak', 'Fallen Leaf', 'Forestdale Creek', 'Hagans Meadow', 'Heavenly Valley', 'Horse Meadow', 'Independence Camp', 'Independence Creek', 'Independence Lake', 'Leavitt Lake', 'Leavitt Meadows', 'Little Valley', 'Lobdell Lake', 'Marlette Lake', 'Monitor Pass', 'Mt Rose Ski Area', 'Poison Flat', 'Rubicon #2', 'Sonora Pass', 'Spratt Creek', 'Squaw Valley G.C.', 'Summit Meadow', 'Tahoe City Cross', 'Truckee #2', 'Virginia Lakes Ridge', 'Ward Creek #3']\n"
     ]
    }
   ],
   "source": [
    "temp = list(snotel_dict.keys())\n",
    "temp.sort()\n",
    "print(temp)"
   ]
  },
  {
   "cell_type": "code",
   "execution_count": 11,
   "metadata": {},
   "outputs": [
    {
     "data": {
      "text/plain": [
       "{'Big Meadow': array([175, 162]),\n",
       " 'Blue Lakes': array([147, 162]),\n",
       " 'Burnside Lake': array([151, 163]),\n",
       " 'Carson Pass': array([150, 160]),\n",
       " 'Css Lab': array([170, 148]),\n",
       " 'Ebbetts Pass': array([146, 166]),\n",
       " 'Echo Peak': array([155, 157]),\n",
       " 'Fallen Leaf': array([158, 158]),\n",
       " 'Forestdale Creek': array([150, 161]),\n",
       " 'Hagans Meadow': array([155, 162]),\n",
       " 'Heavenly Valley': array([158, 163]),\n",
       " 'Horse Meadow': array([155, 164]),\n",
       " 'Independence Camp': array([174, 151]),\n",
       " 'Independence Creek': array([176, 151]),\n",
       " 'Independence Lake': array([174, 150]),\n",
       " 'Leavitt Lake': array([137, 172]),\n",
       " 'Leavitt Meadows': array([138, 174]),\n",
       " 'Little Valley': array([168, 164]),\n",
       " 'Lobdell Lake': array([142, 180]),\n",
       " 'Marlette Lake': array([165, 163]),\n",
       " 'Monitor Pass': array([149, 173]),\n",
       " 'Mt Rose Ski Area': array([170, 163]),\n",
       " 'Poison Flat': array([144, 172]),\n",
       " 'Rubicon #2': array([160, 156]),\n",
       " 'Sonora Pass': array([138, 173]),\n",
       " 'Spratt Creek': array([149, 166]),\n",
       " 'Squaw Valley G.C.': array([166, 151]),\n",
       " 'Summit Meadow': array([141, 175]),\n",
       " 'Tahoe City Cross': array([165, 155]),\n",
       " 'Truckee #2': array([170, 154]),\n",
       " 'Virginia Lakes Ridge': array([130, 185]),\n",
       " 'Ward Creek #3': array([164, 153])}"
      ]
     },
     "execution_count": 11,
     "metadata": {},
     "output_type": "execute_result"
    }
   ],
   "source": [
    "better_index = {i[0]:i[1] for i in zip(temp, list(index_dict.values()))}\n",
    "better_index"
   ]
  },
  {
   "cell_type": "code",
   "execution_count": 14,
   "metadata": {},
   "outputs": [
    {
     "data": {
      "text/plain": [
       "(4018,)"
      ]
     },
     "execution_count": 14,
     "metadata": {},
     "output_type": "execute_result"
    }
   ],
   "source": [
    "snotel_dict['Big Meadow'].shape"
   ]
  },
  {
   "cell_type": "code",
   "execution_count": 15,
   "metadata": {},
   "outputs": [],
   "source": [
    "final_dict = {i:(better_index[i], snotel_dict[i]) for i in snotel_dict.keys()}"
   ]
  },
  {
   "cell_type": "code",
   "execution_count": 16,
   "metadata": {},
   "outputs": [],
   "source": [
    "np.savez(\"snotel_values_and_index.npz\", list(final_dict.keys()), list(final_dict.values()))"
   ]
  },
  {
   "cell_type": "code",
   "execution_count": 17,
   "metadata": {},
   "outputs": [
    {
     "data": {
      "text/plain": [
       "{'Monitor Pass': (array([149, 173]),\n",
       "  array([300, 302, 302, ...,  51,  51,  51])),\n",
       " 'Ward Creek #3': (array([164, 153]),\n",
       "  array([485, 490, 490, ...,  81,  81,  81])),\n",
       " 'Rubicon #2': (array([160, 156]), array([312, 318, 323, ...,  46,  46,  46])),\n",
       " 'Independence Creek': (array([176, 151]),\n",
       "  array([206, 206, 203, ...,  13,  13,  13])),\n",
       " 'Heavenly Valley': (array([158, 163]),\n",
       "  array([404, 409, 409, ...,  74,  74,  74])),\n",
       " 'Leavitt Meadows': (array([138, 174]),\n",
       "  array([211, 211, 211, ...,  38,  38,  38])),\n",
       " 'Fallen Leaf': (array([158, 158]),\n",
       "  array([193, 193, 193, ...,  43,  43,  43])),\n",
       " 'Blue Lakes': (array([147, 162]), array([404, 404, 404, ...,  74,  74,  74])),\n",
       " 'Poison Flat': (array([144, 172]),\n",
       "  array([340, 340, 340, ...,  41,  41,  41])),\n",
       " 'Squaw Valley G.C.': (array([166, 151]),\n",
       "  array([897, 942, 942, ..., 112, 112, 112])),\n",
       " 'Carson Pass': (array([150, 160]),\n",
       "  array([925, 925, 925, ...,  97,  97,  97])),\n",
       " 'Lobdell Lake': (array([142, 180]),\n",
       "  array([328, 328, 328, ...,  20,  20,  20])),\n",
       " 'Summit Meadow': (array([141, 175]), array([ 0,  0,  0, ..., 51, 51, 51])),\n",
       " 'Truckee #2': (array([170, 154]), array([272, 272, 272, ...,  43,  43,  43])),\n",
       " 'Mt Rose Ski Area': (array([170, 163]),\n",
       "  array([658, 663, 663, ...,  58,  58,  58])),\n",
       " 'Hagans Meadow': (array([155, 162]),\n",
       "  array([282, 284, 284, ...,  41,  41,  41])),\n",
       " 'Big Meadow': (array([175, 162]), array([338, 338, 338, ...,  43,  43,  43])),\n",
       " 'Sonora Pass': (array([138, 173]),\n",
       "  array([384, 394, 404, ...,  56,  56,  56])),\n",
       " 'Burnside Lake': (array([151, 163]),\n",
       "  array([925, 925, 925, ...,  84,  84,  84])),\n",
       " 'Ebbetts Pass': (array([146, 166]),\n",
       "  array([508, 516, 523, ...,  94,  94,  94])),\n",
       " 'Horse Meadow': (array([155, 164]),\n",
       "  array([480, 480, 478, ...,  61,  61,  61])),\n",
       " 'Leavitt Lake': (array([137, 172]),\n",
       "  array([945, 945, 947, ..., 135, 135, 135])),\n",
       " 'Virginia Lakes Ridge': (array([130, 185]),\n",
       "  array([277, 282, 284, ...,  25,  25,  25])),\n",
       " 'Css Lab': (array([170, 148]), array([577, 582, 587, ...,  66,  66,  66])),\n",
       " 'Echo Peak': (array([155, 157]), array([686, 688, 693, ..., 102, 102, 102])),\n",
       " 'Marlette Lake': (array([165, 163]),\n",
       "  array([307, 310, 312, ...,  94,  94,  94])),\n",
       " 'Little Valley': (array([168, 164]),\n",
       "  array([  0,   0,   0,   0,   0,   0,   0,   0,   0,   0,   0,   0,   0,\n",
       "           0,   0,   0,   0,   0,   0,   0,   0,   0,   0,   0,   0,   0,\n",
       "           0,   0,   0,   0,   0,   0,  10,  18,  25,  23,  15,   8,   5,\n",
       "           0,   0,   0,   0,   0,   0,   0,   0,   0,   0,   0,   0,   0,\n",
       "           0,   0,   0,   0,   0,   0,   0,   0,   0,   0,   0,   0,   0,\n",
       "           0,  18,  23,  56,  76,  79,  79,  79,  79,  79,  79,  79,  79,\n",
       "          79,  79,  79,  79,  79,  79,  79,  79,  79,  79,  79,  79,  79,\n",
       "          79,  79,  79,  79,  79,  79,  79,  79,  79,  99, 180, 188, 188,\n",
       "         188, 188, 188, 188, 188, 188, 188, 188, 188, 188, 190, 190, 190,\n",
       "         190, 190, 190, 190, 190, 190, 190, 190, 190, 190, 190, 190, 190,\n",
       "         190, 190, 190, 190, 190, 190, 190,   0,   0,   0,   0,   0,   0,\n",
       "           0,   0,   0,   0,   0,   0,   0,   0,   0,   0,   0,   0,   0,\n",
       "           0,   0,   0,   0,   0,   0,   0,   0,   0,   0,   0,   0,   0,\n",
       "          10,  18,  25,  23,  15,   8,   5,   0,   0,   0,   0,   0,   0,\n",
       "           0,   0,   0,   0,   0,   0,   0,   0,   0,   0,   0,   0,   0,\n",
       "           0,   0,   0,   0,   0,   0,   0,   0,  18,  23,  56,  76,  79,\n",
       "          79,  79,  79,  79,  79,  79,  79,  79,  79,  79,  79,  79,  79,\n",
       "          79,  79,  79,  79,  79,  79,  79,  79,  79,  79,  79,  79,  79,\n",
       "          79,  79,  79,  99, 180, 188, 188, 188, 188, 188, 188, 188, 188,\n",
       "         188, 188, 188, 188, 190, 190, 190, 190, 190, 190, 190, 190, 190,\n",
       "         190, 190, 190, 190, 190, 190, 190, 190, 190, 190, 190, 190, 190,\n",
       "         190,   0,   0,   0,   0,   0,   0,   0,   0,   0,   0,   0,   0,\n",
       "           0,   0,   0,   0,   0,   0,   0,   0,   0,   0,   0,   0,   0,\n",
       "           0,   0,   0,   0,   0,   0,   0,  10,  18,  25,  23,  15,   8,\n",
       "           5,   0,   0,   0,   0,   0,   0,   0,   0,   0,   0,   0,   0,\n",
       "           0,   0,   0,   0,   0,   0,   0,   0,   0,   0,   0,   0,   0,\n",
       "           0,   0,  18,  23,  56,  76,  79,  79,  79,  79,  79,  79,  79,\n",
       "          79,  79,  79,  79,  79,  79,  79,  79,  79,  79,  79,  79,  79,\n",
       "          79,  79,  79,  79,  79,  79,  79,  79,  79,  79,  99, 180, 188,\n",
       "         188, 188, 188, 188, 188, 188, 188, 188, 188, 188, 188, 190, 190,\n",
       "         190, 190, 190, 190, 190, 190, 190, 190, 190, 190, 190, 190, 190,\n",
       "         190, 190, 190, 190, 190, 190, 190, 190,   0,   0,   0,   0,   0,\n",
       "           0,   0,   0,   0,   0,   0,   0,   0,   0,   0,   0,   0,   0,\n",
       "           0,   0,   0,   0,   0,   0,   0,   0,   0,   0,   0,   0,   0,\n",
       "           0,  10,  18,  25,  23,  15,   8,   5,   0,   0,   0,   0,   0,\n",
       "           0,   0,   0,   0,   0,   0,   0,   0,   0,   0,   0,   0,   0,\n",
       "           0,   0,   0,   0,   0,   0,   0,   0,   0,  18,  23,  56,  76,\n",
       "          79,  79,  79,  79,  79,  79,  79,  79,  79,  79,  79,  79,  79,\n",
       "          79,  79,  79,  79,  79,  79,  79,  79,  79,  79,  79,  79,  79,\n",
       "          79,  79,  79,  79,  99, 180, 188, 188, 188, 188, 188, 188, 188,\n",
       "         188, 188, 188, 188, 188, 190, 190, 190, 190, 190, 190, 190, 190,\n",
       "         190, 190, 190, 190, 190, 190, 190, 190, 190, 190, 190, 190, 190,\n",
       "         190, 190,   0,   0,   0,   0,   0,   0,   0,   0,   0,   0,   0,\n",
       "           0,   0,   0,   0,   0,   0,   0,   0,   0,   0,   0,   0,   0,\n",
       "           0,   0,   0,   0,   0,   0,   0,   0,  10,  18,  25,  23,  15,\n",
       "           8,   5,   0,   0,   0,   0,   0,   0,   0,   0,   0,   0,   0,\n",
       "           0,   0,   0,   0,   0,   0,   0,   0,   0,   0,   0,   0,   0,\n",
       "           0,   0,   0,  18,  23,  56,  76,  79,  79,  79,  79,  79,  79,\n",
       "          79,  79,  79,  79,  79,  79,  79,  79,  79,  79,  79,  79,  79,\n",
       "          79,  79,  79,  79,  79,  79,  79,  79,  79,  79,  79,  99, 180,\n",
       "         188, 188, 188, 188, 188, 188, 188, 188, 188, 188, 188, 188, 190,\n",
       "         190, 190, 190, 190, 190, 190, 190, 190, 190, 190, 190, 190, 190,\n",
       "         190, 190, 190, 190, 190, 190, 190, 190, 190,   0,   0,   0,   0,\n",
       "           0,   0,   0,   0,   0,   0,   0,   0,   0,   0,   0,   0,   0,\n",
       "           0,   0,   0,   0,   0,   0,   0,   0,   0,   0,   0,   0,   0,\n",
       "           0,   0,  10,  18,  25,  23,  15,   8,   5,   0,   0,   0,   0,\n",
       "           0,   0,   0,   0,   0,   0,   0,   0,   0,   0,   0,   0,   0,\n",
       "           0,   0,   0,   0,   0,   0,   0,   0,   0,   0,  18,  23,  56,\n",
       "          76,  79,  79,  79,  79,  79,  79,  79,  79,  79,  79,  79,  79,\n",
       "          79,  79,  79,  79,  79,  79,  79,  79,  79,  79,  79,  79,  79,\n",
       "          79,  79,  79,  79,  79,  99, 180, 188, 188, 188, 188, 188, 188,\n",
       "         188, 188, 188, 188, 188, 188, 190, 190, 190, 190, 190, 190, 190,\n",
       "         190, 190, 190, 190, 190, 190, 190, 190, 190, 190, 190, 190, 190,\n",
       "         190, 190, 190,   0,   0,   0,   0,   0,   0,   0,   0,   0,   0,\n",
       "           0,   0,   0,   0,   0,   0,   0,   0,   0,   0,   0,   0,   0,\n",
       "           0,   0,   0,   0,   0,   0,   0,   0,   0,   0,   0,   0,   0,\n",
       "           0,   0,   0,   0,   0,   0,   0,   0,   0,   0,   0,   0,   0,\n",
       "           0,   0,   0,   0,   0,   0,   0,   0,   0,   0,   0,   0,   0,\n",
       "           0,   0,   0,   0,   0,   0,   0,   0,   0,   0,   0,   0,   0,\n",
       "           0,   0,   0,   0,   0,   0,   0,   0,   0,   0,   0,   0,   0,\n",
       "           0,   0,   0,   0,   0,   0,   0,   0,   0,   0,   0,   0,   0,\n",
       "           0,   0,   0,   0,   0,   0,   0,   0,   0,   5,  23,  25,  25,\n",
       "          25,  25,  25,  20,  18,  18,  15,  15,  10,   5,   0,   0,   0,\n",
       "           0,   0,   0,   0,   0,   0,   0,   0,   5,   5,   3,   5,   5,\n",
       "           5,   5,   5,   5,   5,   5,   8,  18,  25,  25,  46,  48,  56,\n",
       "          56,  56,  56,  56,  56,  56,  56,  56,  56,  56,  56,  56,  56,\n",
       "          56,  58,  58,  58,  58,  58,  58,  58,  58])),\n",
       " 'Forestdale Creek': (array([150, 161]),\n",
       "  array([ 25, 787, 787, ...,  86,  86,  86])),\n",
       " 'Spratt Creek': (array([149, 166]),\n",
       "  array([190, 193, 190, ...,  36,  36,  36])),\n",
       " 'Independence Lake': (array([174, 150]),\n",
       "  array([716, 721, 724, ...,  79,  79,  79])),\n",
       " 'Tahoe City Cross': (array([165, 155]),\n",
       "  array([221, 221, 221, ...,  33,  33,  33])),\n",
       " 'Independence Camp': (array([174, 151]),\n",
       "  array([218, 218, 218, ...,  20,  20,  13]))}"
      ]
     },
     "execution_count": 17,
     "metadata": {},
     "output_type": "execute_result"
    }
   ],
   "source": [
    "final_dict"
   ]
  },
  {
   "cell_type": "code",
   "execution_count": 18,
   "metadata": {},
   "outputs": [
    {
     "data": {
      "text/plain": [
       "{'Big_Meadow\\n': array([175, 162]),\n",
       " 'Blue_Lakes\\n': array([147, 162]),\n",
       " 'Burnside_Lake\\n': array([151, 163]),\n",
       " 'Carson_Pass\\n': array([150, 160]),\n",
       " 'Css_Lab\\n': array([170, 148]),\n",
       " 'Ebbetts_Pass\\n': array([146, 166]),\n",
       " 'Echo_Peak\\n': array([155, 157]),\n",
       " 'Fallen_Leaf\\n': array([158, 158]),\n",
       " 'Forestdale_Creek\\n': array([150, 161]),\n",
       " 'Hagans_Meadow\\n': array([155, 162]),\n",
       " 'Heavenly_Valley\\n': array([158, 163]),\n",
       " 'Horse_Meadow\\n': array([155, 164]),\n",
       " 'Independence_Camp\\n': array([174, 151]),\n",
       " 'Independence_Creek\\n': array([176, 151]),\n",
       " 'Independence_Lake\\n': array([174, 150]),\n",
       " 'Leavitt_Lake\\n': array([137, 172]),\n",
       " 'Leavitt_Meadows\\n': array([138, 174]),\n",
       " 'Little_Valley\\n': array([168, 164]),\n",
       " 'Lobdell_Lake\\n': array([142, 180]),\n",
       " 'Marlette_Lake\\n': array([165, 163]),\n",
       " 'Monitor_Pass\\n': array([149, 173]),\n",
       " 'Mt_Rose_Ski_Area\\n': array([170, 163]),\n",
       " 'Poison_Flat\\n': array([144, 172]),\n",
       " 'Rubicon_2\\n': array([160, 156]),\n",
       " 'Sonora_Pass\\n': array([138, 173]),\n",
       " 'Spratt_Creek\\n': array([149, 166]),\n",
       " 'Squaw_Valley_G_C_\\n': array([166, 151]),\n",
       " 'Summit_Meadow\\n': array([141, 175]),\n",
       " 'Tahoe_City_Cross\\n': array([165, 155]),\n",
       " 'Truckee_2\\n': array([170, 154]),\n",
       " 'Virginia_Lakes_Ridge\\n': array([130, 185]),\n",
       " 'Ward_Creek_3\\n': array([164, 153])}"
      ]
     },
     "execution_count": 18,
     "metadata": {},
     "output_type": "execute_result"
    }
   ],
   "source": [
    "index_dict"
   ]
  },
  {
   "cell_type": "code",
   "execution_count": 41,
   "metadata": {},
   "outputs": [],
   "source": [
    "def remove_snotel_nan(snotel_array):\n",
    "    return snotel_array[np.where(snotel_array != 'nan')].astype(int)"
   ]
  },
  {
   "cell_type": "code",
   "execution_count": 42,
   "metadata": {},
   "outputs": [
    {
     "data": {
      "text/plain": [
       "dict_keys(['Poison Flat', 'Css Lab', 'Tahoe City Cross', 'Mt Rose Ski Area', 'Forestdale Creek', 'Carson Pass', 'Sonora Pass', 'Independence Camp', 'Monitor Pass', 'Blue Lakes', 'Marlette Lake', 'Summit Meadow', 'Hagans Meadow', 'Leavitt Meadows', 'Burnside Lake', 'Squaw Valley G.C.', 'Horse Meadow', 'Spratt Creek', 'Truckee #2', 'Independence Creek', 'Fallen Leaf', 'Ward Creek #3', 'Ebbetts Pass', 'Little Valley', 'Virginia Lakes Ridge', 'Rubicon #2', 'Big Meadow', 'Echo Peak', 'Heavenly Valley', 'Leavitt Lake', 'Independence Lake', 'Lobdell Lake'])"
      ]
     },
     "execution_count": 42,
     "metadata": {},
     "output_type": "execute_result"
    }
   ],
   "source": [
    "snotel_dict.keys()"
   ]
  },
  {
   "cell_type": "code",
   "execution_count": 32,
   "metadata": {},
   "outputs": [],
   "source": [
    "for key in snotel_dict.keys():\n",
    "    snotel_dict[key] = (remove_snotel_nan(np.array(snotel_dict[key])))"
   ]
  },
  {
   "cell_type": "code",
   "execution_count": 199,
   "metadata": {},
   "outputs": [
    {
     "data": {
      "text/plain": [
       "(997,)"
      ]
     },
     "execution_count": 199,
     "metadata": {},
     "output_type": "execute_result"
    }
   ],
   "source": [
    "snotel_dict[\"Little Valley\"]"
   ]
  },
  {
   "cell_type": "code",
   "execution_count": 202,
   "metadata": {},
   "outputs": [],
   "source": [
    "np.savez(\"snotel_data.npz\", snotel_dict)"
   ]
  },
  {
   "cell_type": "code",
   "execution_count": 203,
   "metadata": {},
   "outputs": [
    {
     "name": "stdout",
     "output_type": "stream",
     "text": [
      " 2week.ipynb\t\t\t\t\t OceanMask.ipynb\r\n",
      " augmented_cyclegan\t\t\t\t OceanMask.npy\r\n",
      " backup_py2.zip\t\t\t\t\t'Parse Snotel Data.ipynb'\r\n",
      " conditional_gan\t\t\t\t README.md\r\n",
      " datasets\t\t\t\t\t saved_percent_masks.npy\r\n",
      " height_array.npy\t\t\t\t snotel_data.npz\r\n",
      " HMap.ipynb\t\t\t\t\t SWEDataCheck.ipynb\r\n",
      "'implementing interactive saliency maps.ipynb'\r\n"
     ]
    }
   ],
   "source": [
    "!ls"
   ]
  },
  {
   "cell_type": "code",
   "execution_count": null,
   "metadata": {},
   "outputs": [],
   "source": []
  },
  {
   "cell_type": "code",
   "execution_count": 147,
   "metadata": {},
   "outputs": [
    {
     "data": {
      "text/plain": [
       "array([686, 688, 693, ..., 102, 102, 102])"
      ]
     },
     "execution_count": 147,
     "metadata": {},
     "output_type": "execute_result"
    }
   ],
   "source": [
    "remove_snotel_nan(np.array(snotel_dict[\"Echo Peak\"]))"
   ]
  },
  {
   "cell_type": "code",
   "execution_count": 251,
   "metadata": {},
   "outputs": [
    {
     "data": {
      "text/plain": [
       "array([658, 663, 663, ...,  58,  58,  58])"
      ]
     },
     "execution_count": 251,
     "metadata": {},
     "output_type": "execute_result"
    }
   ],
   "source": [
    "snotel_dict['Mt Rose Ski Area']"
   ]
  },
  {
   "cell_type": "code",
   "execution_count": 252,
   "metadata": {},
   "outputs": [
    {
     "data": {
      "text/plain": [
       "[<matplotlib.lines.Line2D at 0x7f3f205abd68>]"
      ]
     },
     "execution_count": 252,
     "metadata": {},
     "output_type": "execute_result"
    },
    {
     "data": {
      "image/png": "[encoded data removed]",
      "text/plain": [
       "<Figure size 432x288 with 1 Axes>"
      ]
     },
     "metadata": {
      "needs_background": "light"
     },
     "output_type": "display_data"
    }
   ],
   "source": [
    "plt.plot(np.array(snotel_dict[\"Mt Rose Ski Area\"]))"
   ]
  },
  {
   "cell_type": "code",
   "execution_count": 151,
   "metadata": {},
   "outputs": [],
   "source": [
    "total_data = nc4.Dataset('datasets/Livneh.LndVar.CA.4km.2003_2013.nc')"
   ]
  },
  {
   "cell_type": "code",
   "execution_count": 152,
   "metadata": {},
   "outputs": [],
   "source": [
    "total_SWE_data = np.array(total_data.variables[\"SWE\"])"
   ]
  },
  {
   "cell_type": "code",
   "execution_count": 255,
   "metadata": {},
   "outputs": [
    {
     "data": {
      "text/plain": [
       "(4018, 321, 321)"
      ]
     },
     "execution_count": 255,
     "metadata": {},
     "output_type": "execute_result"
    }
   ],
   "source": [
    "total_SWE_data.shape"
   ]
  },
  {
   "cell_type": "code",
   "execution_count": 153,
   "metadata": {},
   "outputs": [],
   "source": [
    "selected_liv_data = total_SWE_data[:, 153, 164]"
   ]
  },
  {
   "cell_type": "code",
   "execution_count": 154,
   "metadata": {},
   "outputs": [],
   "source": [
    "normalized_lons = np.abs(np.array(total_data.variables['lon']) - -120.21865)"
   ]
  },
  {
   "cell_type": "code",
   "execution_count": 155,
   "metadata": {},
   "outputs": [
    {
     "data": {
      "text/plain": [
       "(array([153]),)"
      ]
     },
     "execution_count": 155,
     "metadata": {},
     "output_type": "execute_result"
    }
   ],
   "source": [
    "np.where(normalized_lons == min(normalized_lons))"
   ]
  },
  {
   "cell_type": "code",
   "execution_count": 156,
   "metadata": {},
   "outputs": [],
   "source": [
    "normalized_lats = np.abs(np.array(total_data.variables['lat']) - 39.13545)"
   ]
  },
  {
   "cell_type": "code",
   "execution_count": 157,
   "metadata": {},
   "outputs": [
    {
     "data": {
      "text/plain": [
       "(array([164]),)"
      ]
     },
     "execution_count": 157,
     "metadata": {},
     "output_type": "execute_result"
    }
   ],
   "source": [
    "np.where(normalized_lats == min(normalized_lats))"
   ]
  },
  {
   "cell_type": "code",
   "execution_count": 175,
   "metadata": {},
   "outputs": [],
   "source": [
    "t = np.arange(0, 4018)"
   ]
  },
  {
   "cell_type": "code",
   "execution_count": 254,
   "metadata": {},
   "outputs": [
    {
     "data": {
      "text/plain": [
       "[<matplotlib.lines.Line2D at 0x7f3f203aa748>]"
      ]
     },
     "execution_count": 254,
     "metadata": {},
     "output_type": "execute_result"
    },
    {
     "data": {
      "image/png": "[encoded data removed]",
      "text/plain": [
       "<Figure size 432x288 with 1 Axes>"
      ]
     },
     "metadata": {
      "needs_background": "light"
     },
     "output_type": "display_data"
    }
   ],
   "source": [
    "selected_liv_data = total_SWE_data[:, 170, 162]\n",
    "plt.plot(t, selected_liv_data, 'g')\n",
    "plt.plot(t, snotel_dict[\"Mt Rose Ski Area\"], 'b')"
   ]
  },
  {
   "cell_type": "code",
   "execution_count": 258,
   "metadata": {},
   "outputs": [
    {
     "data": {
      "text/plain": [
       "[<matplotlib.lines.Line2D at 0x7f3f20267860>]"
      ]
     },
     "execution_count": 258,
     "metadata": {},
     "output_type": "execute_result"
    },
    {
     "data": {
      "image/png": "[encoded data removed]",
      "text/plain": [
       "<Figure size 432x288 with 1 Axes>"
      ]
     },
     "metadata": {
      "needs_background": "light"
     },
     "output_type": "display_data"
    }
   ],
   "source": [
    "selected_liv_data = total_SWE_data[:, 170, 162]\n",
    "plt.plot(t, selected_liv_data/np.max(selected_liv_data), 'g')\n",
    "plt.plot(t, snotel_dict[\"Mt Rose Ski Area\"]/np.max(snotel_dict[\"Mt Rose Ski Area\"]), 'b')"
   ]
  },
  {
   "cell_type": "code",
   "execution_count": null,
   "metadata": {},
   "outputs": [],
   "source": []
  },
  {
   "cell_type": "code",
   "execution_count": null,
   "metadata": {},
   "outputs": [],
   "source": []
  },
  {
   "cell_type": "code",
   "execution_count": 12,
   "metadata": {},
   "outputs": [],
   "source": [
    "tempfile = open('datasets/print.LivnehtoSNOTELindex.out', 'r')\n",
    "tempfile  =tempfile.readlines()\n",
    "tempfile = [i.split(\" \") for i in tempfile]\n",
    "tempfile = sum(tempfile, [])\n",
    "tempfile = np.array(tempfile)\n",
    "grid_size = 312\n",
    "index_list = tempfile[np.where(np.array(tempfile) == \"Index\")[0] + 2]\n",
    "indexlist = index_list.astype(int)\n",
    "index_list = indexlist.reshape((-1,2))\n",
    "index_list = np.round(index_list*(grid_size/312)).astype(int)\n",
    "station_list = tempfile[np.where(np.array(tempfile) == \"Station\")[0] + 2]\n",
    "index_dict = {i[0]:i[1] for i in zip(station_list, index_list)}"
   ]
  },
  {
   "cell_type": "code",
   "execution_count": 13,
   "metadata": {},
   "outputs": [],
   "source": [
    "station_list = tempfile[np.where(np.array(tempfile) == \"Station\")[0] + 2]\n"
   ]
  },
  {
   "cell_type": "code",
   "execution_count": 14,
   "metadata": {},
   "outputs": [],
   "source": [
    "index_dict = {i[0]:i[1] for i in zip(station_list, index_list)}"
   ]
  },
  {
   "cell_type": "code",
   "execution_count": 15,
   "metadata": {},
   "outputs": [
    {
     "data": {
      "text/plain": [
       "{'Big_Meadow\\n': array([175, 162]),\n",
       " 'Blue_Lakes\\n': array([147, 162]),\n",
       " 'Burnside_Lake\\n': array([151, 163]),\n",
       " 'Carson_Pass\\n': array([150, 160]),\n",
       " 'Css_Lab\\n': array([170, 148]),\n",
       " 'Ebbetts_Pass\\n': array([146, 166]),\n",
       " 'Echo_Peak\\n': array([155, 157]),\n",
       " 'Fallen_Leaf\\n': array([158, 158]),\n",
       " 'Forestdale_Creek\\n': array([150, 161]),\n",
       " 'Hagans_Meadow\\n': array([155, 162]),\n",
       " 'Heavenly_Valley\\n': array([158, 163]),\n",
       " 'Horse_Meadow\\n': array([155, 164]),\n",
       " 'Independence_Camp\\n': array([174, 151]),\n",
       " 'Independence_Creek\\n': array([176, 151]),\n",
       " 'Independence_Lake\\n': array([174, 150]),\n",
       " 'Leavitt_Lake\\n': array([137, 172]),\n",
       " 'Leavitt_Meadows\\n': array([138, 174]),\n",
       " 'Little_Valley\\n': array([168, 164]),\n",
       " 'Lobdell_Lake\\n': array([142, 180]),\n",
       " 'Marlette_Lake\\n': array([165, 163]),\n",
       " 'Monitor_Pass\\n': array([149, 173]),\n",
       " 'Mt_Rose_Ski_Area\\n': array([170, 163]),\n",
       " 'Poison_Flat\\n': array([144, 172]),\n",
       " 'Rubicon_2\\n': array([160, 156]),\n",
       " 'Sonora_Pass\\n': array([138, 173]),\n",
       " 'Spratt_Creek\\n': array([149, 166]),\n",
       " 'Squaw_Valley_G_C_\\n': array([166, 151]),\n",
       " 'Summit_Meadow\\n': array([141, 175]),\n",
       " 'Tahoe_City_Cross\\n': array([165, 155]),\n",
       " 'Truckee_2\\n': array([170, 154]),\n",
       " 'Virginia_Lakes_Ridge\\n': array([130, 185]),\n",
       " 'Ward_Creek_3\\n': array([164, 153])}"
      ]
     },
     "execution_count": 15,
     "metadata": {},
     "output_type": "execute_result"
    }
   ],
   "source": [
    "index_dict"
   ]
  },
  {
   "cell_type": "code",
   "execution_count": null,
   "metadata": {},
   "outputs": [],
   "source": []
  },
  {
   "cell_type": "code",
   "execution_count": null,
   "metadata": {},
   "outputs": [],
   "source": []
  },
  {
   "cell_type": "code",
   "execution_count": null,
   "metadata": {},
   "outputs": [],
   "source": []
  },
  {
   "cell_type": "code",
   "execution_count": null,
   "metadata": {},
   "outputs": [],
   "source": []
  },
  {
   "cell_type": "code",
   "execution_count": null,
   "metadata": {},
   "outputs": [],
   "source": []
  },
  {
   "cell_type": "code",
   "execution_count": null,
   "metadata": {},
   "outputs": [],
   "source": []
  },
  {
   "cell_type": "code",
   "execution_count": null,
   "metadata": {},
   "outputs": [],
   "source": []
  },
  {
   "cell_type": "code",
   "execution_count": null,
   "metadata": {},
   "outputs": [],
   "source": []
  },
  {
   "cell_type": "markdown",
   "metadata": {},
   "source": []
  },
  {
   "cell_type": "code",
   "execution_count": null,
   "metadata": {
    "scrolled": true
   },
   "outputs": [],
   "source": []
  },
  {
   "cell_type": "code",
   "execution_count": null,
   "metadata": {},
   "outputs": [],
   "source": []
  },
  {
   "cell_type": "markdown",
   "metadata": {},
   "source": [
    "Take all 32 snotel sites. Make 256x256x4018 array containing snotel values per day. Split train test. Save as sparse array."
   ]
  },
  {
   "cell_type": "code",
   "execution_count": null,
   "metadata": {},
   "outputs": [],
   "source": []
  },
  {
   "cell_type": "code",
   "execution_count": null,
   "metadata": {},
   "outputs": [],
   "source": []
  },
  {
   "cell_type": "code",
   "execution_count": null,
   "metadata": {},
   "outputs": [],
   "source": []
  },
  {
   "cell_type": "code",
   "execution_count": null,
   "metadata": {},
   "outputs": [],
   "source": []
  },
  {
   "cell_type": "code",
   "execution_count": null,
   "metadata": {},
   "outputs": [],
   "source": []
  },
  {
   "cell_type": "code",
   "execution_count": null,
   "metadata": {},
   "outputs": [],
   "source": []
  },
  {
   "cell_type": "code",
   "execution_count": null,
   "metadata": {},
   "outputs": [],
   "source": []
  },
  {
   "cell_type": "code",
   "execution_count": null,
   "metadata": {},
   "outputs": [],
   "source": []
  },
  {
   "cell_type": "code",
   "execution_count": null,
   "metadata": {},
   "outputs": [],
   "source": []
  },
  {
   "cell_type": "code",
   "execution_count": null,
   "metadata": {},
   "outputs": [],
   "source": []
  },
  {
   "cell_type": "code",
   "execution_count": 15,
   "metadata": {},
   "outputs": [
    {
     "data": {
      "text/plain": [
       "array([2.1920695, 0.       , 0.       , ..., 0.       , 0.       ,\n",
       "       0.       ], dtype=float32)"
      ]
     },
     "execution_count": 15,
     "metadata": {},
     "output_type": "execute_result"
    }
   ],
   "source": [
    "snotel_data"
   ]
  },
  {
   "cell_type": "code",
   "execution_count": 16,
   "metadata": {},
   "outputs": [
    {
     "data": {
      "text/plain": [
       "array([212.03815 , 212.13559 , 212.2724  , ...,  19.2628  ,  18.706749,\n",
       "        17.489649], dtype=float32)"
      ]
     },
     "execution_count": 16,
     "metadata": {},
     "output_type": "execute_result"
    }
   ],
   "source": [
    "selected_liv_data"
   ]
  },
  {
   "cell_type": "code",
   "execution_count": 17,
   "metadata": {},
   "outputs": [
    {
     "data": {
      "text/plain": [
       "(4018,)"
      ]
     },
     "execution_count": 17,
     "metadata": {},
     "output_type": "execute_result"
    }
   ],
   "source": [
    "t = np.arange(0, 4018)\n",
    "t.shape"
   ]
  },
  {
   "cell_type": "code",
   "execution_count": 22,
   "metadata": {},
   "outputs": [
    {
     "data": {
      "text/plain": [
       "[<matplotlib.lines.Line2D at 0x7f6c2424d860>]"
      ]
     },
     "execution_count": 22,
     "metadata": {},
     "output_type": "execute_result"
    },
    {
     "data": {
      "image/png": "[encoded data removed]",
      "text/plain": [
       "<Figure size 432x288 with 1 Axes>"
      ]
     },
     "metadata": {
      "needs_background": "light"
     },
     "output_type": "display_data"
    }
   ],
   "source": [
    "selected_liv_data = total_SWE_data[:, 153, 164]\n",
    "plt.plot(t, selected_liv_data, 'g')\n",
    "plt.plot(t, snotel_data, 'b')"
   ]
  },
  {
   "cell_type": "code",
   "execution_count": 21,
   "metadata": {},
   "outputs": [
    {
     "data": {
      "text/plain": [
       "[<matplotlib.lines.Line2D at 0x7f6c24215080>]"
      ]
     },
     "execution_count": 21,
     "metadata": {},
     "output_type": "execute_result"
    },
    {
     "data": {
      "image/png": "[encoded data removed]",
      "text/plain": [
       "<Figure size 432x288 with 1 Axes>"
      ]
     },
     "metadata": {
      "needs_background": "light"
     },
     "output_type": "display_data"
    }
   ],
   "source": [
    "plt.plot(t, selected_liv_data, 'g')\n"
   ]
  },
  {
   "cell_type": "code",
   "execution_count": 20,
   "metadata": {},
   "outputs": [
    {
     "data": {
      "text/plain": [
       "[<matplotlib.lines.Line2D at 0x7f40698ff898>]"
      ]
     },
     "execution_count": 20,
     "metadata": {},
     "output_type": "execute_result"
    },
    {
     "data": {
      "image/png": "[encoded data removed]",
      "text/plain": [
       "<Figure size 432x288 with 1 Axes>"
      ]
     },
     "metadata": {
      "needs_background": "light"
     },
     "output_type": "display_data"
    }
   ],
   "source": [
    "plt.plot(t, snotel_data, 'b')"
   ]
  },
  {
   "cell_type": "code",
   "execution_count": null,
   "metadata": {},
   "outputs": [],
   "source": []
  },
  {
   "cell_type": "code",
   "execution_count": null,
   "metadata": {},
   "outputs": [],
   "source": []
  },
  {
   "cell_type": "code",
   "execution_count": null,
   "metadata": {},
   "outputs": [],
   "source": []
  },
  {
   "cell_type": "code",
   "execution_count": null,
   "metadata": {},
   "outputs": [],
   "source": []
  },
  {
   "cell_type": "code",
   "execution_count": null,
   "metadata": {},
   "outputs": [],
   "source": []
  },
  {
   "cell_type": "code",
   "execution_count": null,
   "metadata": {},
   "outputs": [],
   "source": []
  },
  {
   "cell_type": "code",
   "execution_count": null,
   "metadata": {},
   "outputs": [],
   "source": []
  },
  {
   "cell_type": "code",
   "execution_count": 8,
   "metadata": {},
   "outputs": [],
   "source": [
    "tempfile = open('datasets/print.LivnehtoSNOTELindex.out', 'r')"
   ]
  },
  {
   "cell_type": "code",
   "execution_count": 9,
   "metadata": {},
   "outputs": [],
   "source": [
    "tempfile  =tempfile.readlines()"
   ]
  },
  {
   "cell_type": "markdown",
   "metadata": {},
   "source": []
  },
  {
   "cell_type": "code",
   "execution_count": 10,
   "metadata": {},
   "outputs": [],
   "source": [
    "tempfile = [i.split(\" \") for i in tempfile]"
   ]
  },
  {
   "cell_type": "code",
   "execution_count": 11,
   "metadata": {},
   "outputs": [],
   "source": [
    "tempfile = sum(tempfile, [])"
   ]
  },
  {
   "cell_type": "code",
   "execution_count": 12,
   "metadata": {},
   "outputs": [],
   "source": [
    "tempfile = sum(tempfile, [])\n",
    "tempfile = np.array(tempfile)"
   ]
  },
  {
   "cell_type": "code",
   "execution_count": 13,
   "metadata": {},
   "outputs": [],
   "source": [
    "tempfile = sum(tempfile, [])\n",
    "tempfile = np.array(tempfile)\n",
    "grid_size = 64"
   ]
  },
  {
   "cell_type": "code",
   "execution_count": 14,
   "metadata": {},
   "outputs": [
    {
     "data": {
      "text/plain": [
       "array([[36, 33],\n",
       "       [30, 33],\n",
       "       [31, 33],\n",
       "       [31, 33],\n",
       "       [35, 30],\n",
       "       [30, 34],\n",
       "       [32, 32],\n",
       "       [32, 32],\n",
       "       [31, 33],\n",
       "       [32, 33],\n",
       "       [32, 33],\n",
       "       [32, 34],\n",
       "       [36, 31],\n",
       "       [36, 31],\n",
       "       [36, 31],\n",
       "       [28, 35],\n",
       "       [28, 36],\n",
       "       [34, 34],\n",
       "       [29, 37],\n",
       "       [34, 33],\n",
       "       [31, 35],\n",
       "       [35, 33],\n",
       "       [30, 35],\n",
       "       [33, 32],\n",
       "       [28, 35],\n",
       "       [31, 34],\n",
       "       [34, 31],\n",
       "       [29, 36],\n",
       "       [34, 32],\n",
       "       [35, 32],\n",
       "       [27, 38],\n",
       "       [34, 31]])"
      ]
     },
     "execution_count": 14,
     "metadata": {},
     "output_type": "execute_result"
    }
   ],
   "source": [
    "tempfile = sum(tempfile, [])\n",
    "tempfile = np.array(tempfile)\n",
    "grid_size = 64\n",
    "index_list = tempfile[np.where(np.array(tempfile) == \"Index\")[0] + 2]\n",
    "indexlist = index_list.astype(int)\n",
    "index_list = indexlist.reshape((-1,2))\n",
    "index_list = np.round(index_list*(grid_size/312)).astype(int)\n",
    "index_list"
   ]
  },
  {
   "cell_type": "code",
   "execution_count": 15,
   "metadata": {},
   "outputs": [
    {
     "data": {
      "text/plain": [
       "<matplotlib.image.AxesImage at 0x7fcc1eca1cc0>"
      ]
     },
     "execution_count": 15,
     "metadata": {},
     "output_type": "execute_result"
    },
    {
     "data": {
      "image/png": "[encoded data removed]",
      "text/plain": [
       "<Figure size 432x288 with 1 Axes>"
      ]
     },
     "metadata": {
      "needs_background": "light"
     },
     "output_type": "display_data"
    }
   ],
   "source": [
    "A = np.zeros((64, 64))\n",
    "for i in index_list:\n",
    "    A[i[0], i[1]] = 1\n",
    "plt.imshow(A)"
   ]
  },
  {
   "cell_type": "code",
   "execution_count": null,
   "metadata": {},
   "outputs": [],
   "source": []
  },
  {
   "cell_type": "code",
   "execution_count": 16,
   "metadata": {},
   "outputs": [
    {
     "data": {
      "text/plain": [
       "<class 'netCDF4._netCDF4.Dataset'>\n",
       "root group (NETCDF4_CLASSIC data model, file format HDF5):\n",
       "    creation_date: Fri Feb  8 15:00:14 PST 2019\n",
       "    Conventions: None\n",
       "    source_file: \n",
       "    title: AR MASK - 1549666812\n",
       "    dimensions(sizes): time(4018)\n",
       "    variables(dimensions): float32 \u001b[4mHeavenly_Valley_POINT_38_92431to119_91641_4km_Livneh\u001b[0m(time), float64 \u001b[4mtime\u001b[0m(time)\n",
       "    groups: "
      ]
     },
     "execution_count": 16,
     "metadata": {},
     "output_type": "execute_result"
    }
   ],
   "source": [
    "temp1 = nc4.Dataset(nc_files[0],'r')\n",
    "temp1"
   ]
  },
  {
   "cell_type": "code",
   "execution_count": 17,
   "metadata": {},
   "outputs": [
    {
     "data": {
      "text/plain": [
       "array(['Big_Meadow\\n', 'Blue_Lakes\\n', 'Burnside_Lake\\n', 'Carson_Pass\\n',\n",
       "       'Css_Lab\\n', 'Ebbetts_Pass\\n', 'Echo_Peak\\n', 'Fallen_Leaf\\n',\n",
       "       'Forestdale_Creek\\n', 'Hagans_Meadow\\n', 'Heavenly_Valley\\n',\n",
       "       'Horse_Meadow\\n', 'Independence_Camp\\n', 'Independence_Creek\\n',\n",
       "       'Independence_Lake\\n', 'Leavitt_Lake\\n', 'Leavitt_Meadows\\n',\n",
       "       'Little_Valley\\n', 'Lobdell_Lake\\n', 'Marlette_Lake\\n',\n",
       "       'Monitor_Pass\\n', 'Mt_Rose_Ski_Area\\n', 'Poison_Flat\\n',\n",
       "       'Rubicon_2\\n', 'Sonora_Pass\\n', 'Spratt_Creek\\n',\n",
       "       'Squaw_Valley_G_C_\\n', 'Summit_Meadow\\n', 'Tahoe_City_Cross\\n',\n",
       "       'Truckee_2\\n', 'Virginia_Lakes_Ridge\\n', 'Ward_Creek_3\\n'],\n",
       "      dtype='<U62')"
      ]
     },
     "execution_count": 17,
     "metadata": {},
     "output_type": "execute_result"
    }
   ],
   "source": [
    "station_list = tempfile[np.where(np.array(tempfile) == \"Station\")[0] + 2]\n",
    "station_list"
   ]
  },
  {
   "cell_type": "code",
   "execution_count": 18,
   "metadata": {},
   "outputs": [],
   "source": [
    "new_file_list = []\n",
    "for station_name in station_list:\n",
    "    for file_name in nc_files:\n",
    "        if station_name[0:-1] in file_name:\n",
    "            new_file_list.append(file_name)"
   ]
  },
  {
   "cell_type": "code",
   "execution_count": 19,
   "metadata": {},
   "outputs": [
    {
     "data": {
      "text/plain": [
       "['datasets/snotel/Big_Meadow_from_Livneh4km_at_39_455_lat_to_119_9422_lon.nc',\n",
       " 'datasets/snotel/Blue_Lakes_from_Livneh4km_at_38_608_lat_to_119_92437_lon.nc',\n",
       " 'datasets/snotel/Burnside_Lake_from_Livneh4km_at_38_71943_lat_to_119_8942_lon.nc',\n",
       " 'datasets/snotel/Carson_Pass_from_Livneh4km_at_38_6927_lat_to_120_0022_lon.nc',\n",
       " 'datasets/snotel/Css_Lab_from_Livneh4km_at_39_32565_lat_to_120_36807_lon.nc',\n",
       " 'datasets/snotel/Ebbetts_Pass_from_Livneh4km_at_38_5497_lat_to_119_80468_lon.nc',\n",
       " 'datasets/snotel/Echo_Peak_from_Livneh4km_at_38_849_lat_to_120_0795_lon.nc',\n",
       " 'datasets/snotel/Fallen_Leaf_from_Livneh4km_at_38_93403_lat_to_120_0545_lon.nc',\n",
       " 'datasets/snotel/Forestdale_Creek_from_Livneh4km_at_38_68245_lat_to_119_9597_lon.nc',\n",
       " 'datasets/snotel/Hagans_Meadow_from_Livneh4km_at_38_8519_lat_to_119_9374_lon.nc',\n",
       " 'datasets/snotel/Heavenly_Valley_from_Livneh4km_at_38_92431_lat_to_119_91641_lon.nc',\n",
       " 'datasets/snotel/Horse_Meadow_from_Livneh4km_at_38_83652_lat_to_119_88732_lon.nc',\n",
       " 'datasets/snotel/Independence_Camp_from_Livneh4km_at_39_45269_lat_to_120_29367_lon.nc',\n",
       " 'datasets/snotel/Independence_Creek_from_Livneh4km_at_39_49001_lat_to_120_28226_lon.nc',\n",
       " 'datasets/snotel/Independence_Lake_from_Livneh4km_at_39_42752_lat_to_120_31342_lon.nc',\n",
       " 'datasets/snotel/Leavitt_Lake_from_Livneh4km_at_38_27594_lat_to_119_61281_lon.nc',\n",
       " 'datasets/snotel/Leavitt_Meadows_from_Livneh4km_at_38_30367_lat_to_119_55111_lon.nc',\n",
       " 'datasets/snotel/Little_Valley_from_Livneh4km_at_39_25259_lat_to_119_8771_lon.nc',\n",
       " 'datasets/snotel/Lobdell_Lake_from_Livneh4km_at_38_43745_lat_to_119_36572_lon.nc',\n",
       " 'datasets/snotel/Marlette_Lake_from_Livneh4km_at_39_16395_lat_to_119_89672_lon.nc',\n",
       " 'datasets/snotel/Monitor_Pass_from_Livneh4km_at_38_6683_lat_to_119_6087_lon.nc',\n",
       " 'datasets/snotel/Mt_Rose_Ski_Area_from_Livneh4km_at_39_31573_lat_to_119_89473_lon.nc',\n",
       " 'datasets/snotel/Poison_Flat_from_Livneh4km_at_38_50576_lat_to_119_62624_lon.nc',\n",
       " 'datasets/snotel/Rubicon_2_from_Livneh4km_at_38_99927_lat_to_120_13139_lon.nc',\n",
       " 'datasets/snotel/Sonora_Pass_from_Livneh4km_at_38_31021_lat_to_119_6003_lon.nc',\n",
       " 'datasets/snotel/Spratt_Creek_from_Livneh4km_at_38_66627_lat_to_119_81741_lon.nc',\n",
       " 'datasets/snotel/Squaw_Valley_G_C__from_Livneh4km_at_39_18986_lat_to_120_26576_lon.nc',\n",
       " 'datasets/snotel/Summit_Meadow_from_Livneh4km_at_38_39747_lat_to_119_53522_lon.nc',\n",
       " 'datasets/snotel/Tahoe_City_Cross_from_Livneh4km_at_39_17162_lat_to_120_15362_lon.nc',\n",
       " 'datasets/snotel/Truckee_2_from_Livneh4km_at_39_30087_lat_to_120_18407_lon.nc',\n",
       " 'datasets/snotel/Virginia_Lakes_Ridge_from_Livneh4km_at_38_07298_lat_to_119_23433_lon.nc',\n",
       " 'datasets/snotel/Ward_Creek_3_from_Livneh4km_at_39_13545_lat_to_120_21865_lon.nc']"
      ]
     },
     "execution_count": 19,
     "metadata": {},
     "output_type": "execute_result"
    }
   ],
   "source": [
    "new_file_list"
   ]
  },
  {
   "cell_type": "code",
   "execution_count": 20,
   "metadata": {},
   "outputs": [],
   "source": [
    "snotel_array = np.zeros((4018, 64, 64))\n",
    "index_count_dict = {}\n",
    "for index, name in enumerate(new_file_list):\n",
    "    \n",
    "    temp1 = nc4.Dataset(name,'r')\n",
    "    if tuple(index_list[index]) in index_count_dict:\n",
    "        index_count_dict[tuple(index_list[index])] += 1\n",
    "    else:\n",
    "        index_count_dict[tuple(index_list[index])] = 1\n",
    "    snotel_array[:, index_list[index][0], index_list[index][1]] += np.array(temp1.variables[list(temp1.variables.keys())[0]])\n",
    "    \n"
   ]
  },
  {
   "cell_type": "code",
   "execution_count": 21,
   "metadata": {},
   "outputs": [],
   "source": [
    "for item in index_count_dict:\n",
    "    snotel_array[:, np.array(item)[0], np.array(item)[1]] = snotel_array[:, np.array(item)[0], np.array(item)[1]] / index_count_dict[item]\n"
   ]
  },
  {
   "cell_type": "code",
   "execution_count": 22,
   "metadata": {},
   "outputs": [
    {
     "data": {
      "text/plain": [
       "204087.64643556732"
      ]
     },
     "execution_count": 22,
     "metadata": {},
     "output_type": "execute_result"
    }
   ],
   "source": [
    "snotel_array.sum()"
   ]
  },
  {
   "cell_type": "code",
   "execution_count": 23,
   "metadata": {},
   "outputs": [
    {
     "data": {
      "text/plain": [
       "(4018, 64, 64)"
      ]
     },
     "execution_count": 23,
     "metadata": {},
     "output_type": "execute_result"
    }
   ],
   "source": [
    "snotel_array.shape"
   ]
  },
  {
   "cell_type": "code",
   "execution_count": 24,
   "metadata": {},
   "outputs": [],
   "source": [
    "frac_train = 0.8\n",
    "idx_train = int(4018 * frac_train)\n",
    "trainA = snotel_array[:idx_train]\n",
    "testA = snotel_array[idx_train:]"
   ]
  },
  {
   "cell_type": "code",
   "execution_count": 25,
   "metadata": {},
   "outputs": [],
   "source": [
    "output_dir = \"datasets/livneh/\"\n",
    "\n",
    "np.savez_compressed(output_dir + \"trainSnotel.npz\", data=trainA, variables=['Snotel'])\n",
    "np.savez_compressed(output_dir + \"testSnotel.npz\", data=testA, variables=['Snotel'])\n"
   ]
  },
  {
   "cell_type": "code",
   "execution_count": 26,
   "metadata": {},
   "outputs": [
    {
     "data": {
      "text/plain": [
       "(804, 64, 64)"
      ]
     },
     "execution_count": 26,
     "metadata": {},
     "output_type": "execute_result"
    }
   ],
   "source": [
    "testA.shape"
   ]
  },
  {
   "cell_type": "code",
   "execution_count": 27,
   "metadata": {},
   "outputs": [
    {
     "data": {
      "text/plain": [
       "array([2.1920695, 0.       , 0.       , ..., 0.       , 0.       ,\n",
       "       0.       ], dtype=float32)"
      ]
     },
     "execution_count": 27,
     "metadata": {},
     "output_type": "execute_result"
    }
   ],
   "source": [
    "np.array(temp1.variables['Ward_Creek_3_POINT_39_13545to120_21865_4km_Livneh'])"
   ]
  },
  {
   "cell_type": "code",
   "execution_count": 28,
   "metadata": {},
   "outputs": [
    {
     "data": {
      "text/plain": [
       "0.0"
      ]
     },
     "execution_count": 28,
     "metadata": {},
     "output_type": "execute_result"
    }
   ],
   "source": [
    "np.min(np.array(temp1.variables['Ward_Creek_3_POINT_39_13545to120_21865_4km_Livneh']))"
   ]
  },
  {
   "cell_type": "code",
   "execution_count": 29,
   "metadata": {},
   "outputs": [
    {
     "data": {
      "text/plain": [
       "154.0326"
      ]
     },
     "execution_count": 29,
     "metadata": {},
     "output_type": "execute_result"
    }
   ],
   "source": [
    "np.max(np.array(temp1.variables['Ward_Creek_3_POINT_39_13545to120_21865_4km_Livneh']))"
   ]
  },
  {
   "cell_type": "code",
   "execution_count": 30,
   "metadata": {},
   "outputs": [],
   "source": [
    "swe_data = np.load('datasets/livneh/trainB.npz')"
   ]
  },
  {
   "cell_type": "code",
   "execution_count": 31,
   "metadata": {},
   "outputs": [],
   "source": [
    "trainDat = swe_data['data']"
   ]
  },
  {
   "cell_type": "code",
   "execution_count": 32,
   "metadata": {},
   "outputs": [],
   "source": [
    "trainDat = np.nan_to_num(trainDat)"
   ]
  },
  {
   "cell_type": "code",
   "execution_count": 33,
   "metadata": {},
   "outputs": [
    {
     "data": {
      "text/plain": [
       "(3214, 64, 64, 1)"
      ]
     },
     "execution_count": 33,
     "metadata": {},
     "output_type": "execute_result"
    }
   ],
   "source": [
    "trainDat.shape"
   ]
  },
  {
   "cell_type": "code",
   "execution_count": 34,
   "metadata": {},
   "outputs": [],
   "source": [
    "snotel_array = -1 + 2 * (snotel_array) / np.max(snotel_array)"
   ]
  },
  {
   "cell_type": "code",
   "execution_count": 35,
   "metadata": {},
   "outputs": [
    {
     "data": {
      "text/plain": [
       "-1.0"
      ]
     },
     "execution_count": 35,
     "metadata": {},
     "output_type": "execute_result"
    }
   ],
   "source": [
    "np.min(snotel_array)"
   ]
  },
  {
   "cell_type": "code",
   "execution_count": 36,
   "metadata": {},
   "outputs": [
    {
     "data": {
      "text/plain": [
       "1.0"
      ]
     },
     "execution_count": 36,
     "metadata": {},
     "output_type": "execute_result"
    }
   ],
   "source": [
    "np.max(snotel_array)"
   ]
  },
  {
   "cell_type": "code",
   "execution_count": 37,
   "metadata": {},
   "outputs": [
    {
     "data": {
      "text/plain": [
       "2580.133432000898"
      ]
     },
     "execution_count": 37,
     "metadata": {},
     "output_type": "execute_result"
    }
   ],
   "source": [
    "np.max(trainDat)"
   ]
  },
  {
   "cell_type": "code",
   "execution_count": 38,
   "metadata": {},
   "outputs": [
    {
     "data": {
      "text/plain": [
       "(3214, 64, 64, 1)"
      ]
     },
     "execution_count": 38,
     "metadata": {},
     "output_type": "execute_result"
    }
   ],
   "source": [
    "trainDat.shape"
   ]
  },
  {
   "cell_type": "code",
   "execution_count": 39,
   "metadata": {},
   "outputs": [
    {
     "data": {
      "text/plain": [
       "(3214, 64, 64)"
      ]
     },
     "execution_count": 39,
     "metadata": {},
     "output_type": "execute_result"
    }
   ],
   "source": [
    "trainA.shape"
   ]
  },
  {
   "cell_type": "code",
   "execution_count": 40,
   "metadata": {},
   "outputs": [
    {
     "data": {
      "text/plain": [
       "0"
      ]
     },
     "execution_count": 40,
     "metadata": {},
     "output_type": "execute_result"
    }
   ],
   "source": [
    "(trainA[500,:,:] != 0).sum()"
   ]
  },
  {
   "cell_type": "code",
   "execution_count": null,
   "metadata": {},
   "outputs": [],
   "source": []
  },
  {
   "cell_type": "code",
   "execution_count": 41,
   "metadata": {},
   "outputs": [
    {
     "data": {
      "text/plain": [
       "154.96300506591797"
      ]
     },
     "execution_count": 41,
     "metadata": {},
     "output_type": "execute_result"
    }
   ],
   "source": [
    "np.max(trainA)"
   ]
  },
  {
   "cell_type": "code",
   "execution_count": 42,
   "metadata": {},
   "outputs": [
    {
     "data": {
      "text/plain": [
       "2580.133432000898"
      ]
     },
     "execution_count": 42,
     "metadata": {},
     "output_type": "execute_result"
    }
   ],
   "source": [
    "np.max(trainDat)"
   ]
  },
  {
   "cell_type": "code",
   "execution_count": 43,
   "metadata": {},
   "outputs": [
    {
     "data": {
      "text/plain": [
       "5.015625"
      ]
     },
     "execution_count": 43,
     "metadata": {},
     "output_type": "execute_result"
    }
   ],
   "source": [
    "321 / 64"
   ]
  },
  {
   "cell_type": "code",
   "execution_count": 44,
   "metadata": {},
   "outputs": [
    {
     "data": {
      "text/plain": [
       "770"
      ]
     },
     "execution_count": 44,
     "metadata": {},
     "output_type": "execute_result"
    }
   ],
   "source": [
    "154 * 5"
   ]
  },
  {
   "cell_type": "code",
   "execution_count": null,
   "metadata": {},
   "outputs": [],
   "source": []
  }
 ],
 "metadata": {
  "kernelspec": {
   "display_name": "Python 3",
   "language": "python",
   "name": "python3"
  },
  "language_info": {
   "codemirror_mode": {
    "name": "ipython",
    "version": 3
   },
   "file_extension": ".py",
   "mimetype": "text/x-python",
   "name": "python",
   "nbconvert_exporter": "python",
   "pygments_lexer": "ipython3",
   "version": "3.7.3"
  }
 },
 "nbformat": 4,
 "nbformat_minor": 2
}
